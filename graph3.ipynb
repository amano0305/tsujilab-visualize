{
 "cells": [
  {
   "cell_type": "code",
   "execution_count": null,
   "id": "8c241cdc-bb13-4081-97ce-ede58e488b6d",
   "metadata": {},
   "outputs": [],
   "source": []
  },
  {
   "cell_type": "code",
   "execution_count": 4,
   "id": "b895b1af-c4c6-4fb5-a735-d2f73c5a2fdd",
   "metadata": {},
   "outputs": [],
   "source": [
    "# グラフを書いてみよう\n",
    "import numpy as np\n",
    "import matplotlib.pyplot as plt\n",
    "\n",
    "\n",
    "\n"
   ]
  },
  {
   "cell_type": "code",
   "execution_count": null,
   "id": "0db30400-c451-4e38-baab-290e5c649c6a",
   "metadata": {},
   "outputs": [],
   "source": [
    "\n"
   ]
  },
  {
   "cell_type": "code",
   "execution_count": 13,
   "id": "03d6813b-553e-4718-bc99-df70ac50b9c3",
   "metadata": {},
   "outputs": [
    {
     "name": "stdout",
     "output_type": "stream",
     "text": [
      "[[ 1.  -6.4]\n",
      " [ 2.  -5.4]\n",
      " [ 3.  -0.8]\n",
      " [ 4.   5.6]\n",
      " [ 5.  11.4]\n",
      " [ 6.  15.7]\n",
      " [ 7.  19.5]\n",
      " [ 8.  21. ]\n",
      " [ 9.  17.1]\n",
      " [10.  10.3]\n",
      " [11.   3.5]\n",
      " [12.  -3.5]]\n"
     ]
    }
   ],
   "source": [
    "\n",
    "data = np.loadtxt('data/ebetsu.csv', delimiter=',', skiprows=1, encoding=\"utf-8_sig\")\n",
    "\n",
    "print( data )\n",
    "\n"
   ]
  },
  {
   "cell_type": "code",
   "execution_count": 14,
   "id": "d4399235-fb4c-4166-a1cb-6e546a2e44a9",
   "metadata": {},
   "outputs": [
    {
     "name": "stdout",
     "output_type": "stream",
     "text": [
      "[ 1.  2.  3.  4.  5.  6.  7.  8.  9. 10. 11. 12.]\n",
      "[-6.4 -5.4 -0.8  5.6 11.4 15.7 19.5 21.  17.1 10.3  7.8 -3.5]\n"
     ]
    }
   ],
   "source": [
    "print( date[:,0])\n",
    "print( date[:,1])\n"
   ]
  },
  {
   "cell_type": "code",
   "execution_count": 15,
   "id": "9cd60421-85db-4139-a60d-df840de23f28",
   "metadata": {},
   "outputs": [
    {
     "data": {
      "text/plain": [
       "[<matplotlib.lines.Line2D at 0x12b78068280>]"
      ]
     },
     "execution_count": 15,
     "metadata": {},
     "output_type": "execute_result"
    },
    {
     "data": {
      "image/png": "[encoded data removed]",
      "text/plain": [
       "<Figure size 432x288 with 1 Axes>"
      ]
     },
     "metadata": {
      "needs_background": "light"
     },
     "output_type": "display_data"
    }
   ],
   "source": [
    "x = data[:,0]\n",
    "y = data[:,1]\n",
    "\n",
    "plt.plot(x, y, marker='o')"
   ]
  },
  {
   "cell_type": "code",
   "execution_count": null,
   "id": "c106d329-06cd-48e9-8e58-39606e1fff68",
   "metadata": {},
   "outputs": [],
   "source": []
  }
 ],
 "metadata": {
  "kernelspec": {
   "display_name": "Python 3 (ipykernel)",
   "language": "python",
   "name": "python3"
  },
  "language_info": {
   "codemirror_mode": {
    "name": "ipython",
    "version": 3
   },
   "file_extension": ".py",
   "mimetype": "text/x-python",
   "name": "python",
   "nbconvert_exporter": "python",
   "pygments_lexer": "ipython3",
   "version": "3.10.4"
  }
 },
 "nbformat": 4,
 "nbformat_minor": 5
}
